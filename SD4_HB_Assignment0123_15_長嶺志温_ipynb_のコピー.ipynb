{
  "nbformat": 4,
  "nbformat_minor": 0,
  "metadata": {
    "colab": {
      "provenance": [],
      "include_colab_link": true
    },
    "kernelspec": {
      "name": "python3",
      "display_name": "Python 3"
    },
    "language_info": {
      "name": "python"
    }
  },
  "cells": [
    {
      "cell_type": "markdown",
      "metadata": {
        "id": "view-in-github",
        "colab_type": "text"
      },
      "source": [
        "<a href=\"https://colab.research.google.com/github/2025SD4/SD4_15_NagamineShion/blob/main/SD4_HB_Assignment0123_15_%E9%95%B7%E5%B6%BA%E5%BF%97%E6%B8%A9_ipynb_%E3%81%AE%E3%82%B3%E3%83%94%E3%83%BC.ipynb\" target=\"_parent\"><img src=\"https://colab.research.google.com/assets/colab-badge.svg\" alt=\"Open In Colab\"/></a>"
      ]
    },
    {
      "cell_type": "markdown",
      "source": [
        "## 高度プログラミング演習Ｂ プログラムテンプレート\n",
        "## 統一指示\n",
        "\n",
        "\n",
        "1.   以下の形式でファイル名の「出席番号_フルネーム」の箇所を自分にあわせて変更してください\n",
        "2.   メニューの[ファイル]->[ドライブにコピーを保存]から自分のGoogleDrive内にコピーを保存してから、編集してください。最後に指示があったら、メニューの[ファイル]->[Githubにコピーを保存]からGithubOrganizationの25SD4組織内にコピーを保存・提出してください。\n",
        "\n",
        "\n",
        "\n"
      ],
      "metadata": {
        "id": "Lsy7tjsJ5Dt2"
      }
    },
    {
      "cell_type": "markdown",
      "source": [
        "# 以下の各セクションの指示に従い、コードセルを作成・追加し、GitHubに実行結果を提出してください。"
      ],
      "metadata": {
        "id": "ZlCpio8xrmJY"
      }
    },
    {
      "cell_type": "markdown",
      "source": [
        "## ①Tool Calling\n",
        "## 引き渡された値が偶数か否か判定する関数isEvenを作成し、APIに利用させて以下の問いに答えさせてください。\n",
        "### 「0は偶数ですか？」"
      ],
      "metadata": {
        "id": "lvp6-xUtb7Z1"
      }
    },
    {
      "cell_type": "markdown",
      "source": [
        "## ②Few-shotプロンプティング\n",
        "## Few-Shotプロンプティングを利用して以下の文章「映画は面白かったけど、ポップコーンは冷めていた。」がポジティブ（肯定）かネガティブ（否定）か答えさせてください。\n",
        "文章: このレストランのサービスは本当に素晴らしかった！\n",
        "感情: ポジティブ\n",
        "\n",
        "注文した商品が届くのが遅すぎてがっかりした。\n",
        "感情: ネガティブ\n",
        "\n",
        "文章: 会議は午後3時に予定されています。\n",
        "感情: ニュートラル\n",
        "\n",
        "文章: 映画は面白かったけど、ポップコーンは冷めていた。\n",
        "感情:"
      ],
      "metadata": {
        "id": "himvc0XgsyDT"
      }
    },
    {
      "cell_type": "markdown",
      "source": [
        "## ③Zero-shot Chain-of-Thoughtプロンプティング\n",
        "## Zero-shot Chain-of-Thoughtプロンプティングを利用して亀はなぜ寿命が長いのか、５ステップで答えさせてください。"
      ],
      "metadata": {
        "id": "a6XeEsrktxTW"
      }
    },
    {
      "cell_type": "code",
      "source": [
        "# Tool Calling\n",
        "import google.generativeai as genai\n",
        "from google.colab import userdata\n",
        "\n",
        "api_key = userdata.get(\"GOOGLE_API_KEY\")\n",
        "genai.configure(api_key=api_key)\n",
        "\n",
        "def isEven(num: int) -> str:\n",
        "    return \"はい（偶数です）\" if num % 2 == 0 else \"いいえ（奇数です）\"\n",
        "\n",
        "prompt = \"\"\"\n",
        "あなたはツールを利用できます。\n",
        "ツール: isEven(num) → 数が偶数なら「はい」、奇数なら「いいえ」を返す。\n",
        "\n",
        "質問: 0は偶数ですか？\n",
        "\"\"\"\n",
        "\n",
        "response = genai.GenerativeModel(\"gemini-1.5-flash\").generate_content(\n",
        "    [prompt, f\"ツール実行結果: {isEven(0)}\"]\n",
        ")\n",
        "\n",
        "print(response.text)\n",
        "\n"
      ],
      "metadata": {
        "id": "vFXnloO5srY_",
        "colab": {
          "base_uri": "https://localhost:8080/",
          "height": 54
        },
        "outputId": "19441122-f550-47bf-f24d-280ee88198b8"
      },
      "execution_count": 6,
      "outputs": [
        {
          "output_type": "stream",
          "name": "stdout",
          "text": [
            "ツール `isEven(0)` を実行した結果が「はい」なので、0は偶数です。\n",
            "\n"
          ]
        }
      ]
    },
    {
      "cell_type": "code",
      "source": [
        "# Few-shotプロンプティング\n",
        "\n",
        "import google.generativeai as genai\n",
        "from google.colab import userdata\n",
        "\n",
        "api_key = userdata.get(\"GOOGLE_API_KEY\")\n",
        "genai.configure(api_key=api_key)\n",
        "\n",
        "model = genai.GenerativeModel(\"gemini-1.5-flash\")\n",
        "\n",
        "prompt = \"\"\"次の文章をポジティブ・ネガティブ・ニュートラルで分類してください。\n",
        "\n",
        "文章: このレストランのサービスは本当に素晴らしかった！ 感情: ポジティブ\n",
        "文章: 注文した商品が届くのが遅すぎてがっかりした。 感情: ネガティブ\n",
        "文章: 会議は午後3時に予定されています。 感情: ニュートラル\n",
        "\n",
        "文章: 映画は面白かったけど、ポップコーンは冷めていた。 感情:\n",
        "\"\"\"\n",
        "\n",
        "response = model.generate_content(prompt)\n",
        "\n",
        "print(response.text)\n",
        "\n",
        "\n"
      ],
      "metadata": {
        "colab": {
          "base_uri": "https://localhost:8080/",
          "height": 112
        },
        "id": "wx3f5SyU5z4h",
        "outputId": "056ba90b-f9d7-4836-a58d-18112e349705"
      },
      "execution_count": 8,
      "outputs": [
        {
          "output_type": "stream",
          "name": "stdout",
          "text": [
            "感情: **ミックス**  または **ニュートラル寄りのネガティブ**\n",
            "\n",
            "「面白かった」はポジティブですが、「ポップコーンは冷めていた」はネガティブです。全体としてはどちらかといえばネガティブな体験ではありますが、ポジティブな側面もあったため、単純に「ネガティブ」と分類するのは不正確です。  「ミックス」もしくは、ネガティブな要素がポジティブな要素をやや上回っていることを示す「ニュートラル寄りのネガティブ」が適切な分類でしょう。\n",
            "\n"
          ]
        }
      ]
    },
    {
      "cell_type": "code",
      "source": [
        "# Zero-shot Chain-of-Thoughtプロンプティング\n",
        "\n",
        "import google.generativeai as genai\n",
        "from google.colab import userdata\n",
        "\n",
        "api_key = userdata.get(\"GOOGLE_API_KEY\")\n",
        "genai.configure(api_key=api_key)\n",
        "\n",
        "model = genai.GenerativeModel(\"gemini-1.5-flash\")\n",
        "\n",
        "prompt = \"\"\"\n",
        "Zero-shot Chain-of-Thoughtプロンプティングを利用して答えてください。\n",
        "\n",
        "質問: 亀はなぜ寿命が長いのか？\n",
        "制約: 5つのステップで推論して答えること。\n",
        "\"\"\"\n",
        "\n",
        "response = model.generate_content(prompt)\n",
        "\n",
        "print(response.text)\n"
      ],
      "metadata": {
        "colab": {
          "base_uri": "https://localhost:8080/",
          "height": 261
        },
        "id": "G6vi9bJe8OkY",
        "outputId": "6487307b-7063-4def-a45f-3ed5cb99c2ed"
      },
      "execution_count": 9,
      "outputs": [
        {
          "output_type": "stream",
          "name": "stdout",
          "text": [
            "ゼロショットChain-of-Thoughtプロンプティングを用いて、亀の寿命が長い理由を5つのステップで推論します。\n",
            "\n",
            "ステップ1: 寿命の長さは、生物の代謝速度と関連している。\n",
            "\n",
            "ステップ2: 亀は、哺乳類や鳥類に比べて代謝速度が遅い。  これは、彼らの体温調節方法（変温動物であること）に関係している。\n",
            "\n",
            "ステップ3: 低い代謝速度は、細胞の損傷や老化のプロセスを遅らせる。  これは、酸化ストレスや他の老化に関連する分子損傷の蓄積を減少させる。\n",
            "\n",
            "ステップ4: 亀のDNA修復メカニズムは、他の動物よりも効率的である可能性がある。  これは、DNAの損傷を修復し、老化のプロセスを遅らせるのに役立つ。\n",
            "\n",
            "ステップ5: したがって、遅い代謝速度と効率的なDNA修復メカニズムの組み合わせが、亀の驚くほど長い寿命に寄与していると考えられる。\n",
            "\n"
          ]
        }
      ]
    }
  ]
}